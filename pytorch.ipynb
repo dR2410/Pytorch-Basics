{
  "cells": [
    {
      "cell_type": "markdown",
      "id": "95ea6e43-4a03-4be2-8df5-88b0f1d02a43",
      "metadata": {
        "id": "95ea6e43-4a03-4be2-8df5-88b0f1d02a43"
      },
      "source": [
        "* Tensors are arrays that are the building blocks of a neural network.\n",
        "* objectives:-\n",
        "1. Data types\n",
        "2. Indexing and slicing\n",
        "3. Basic operations\n",
        "4. Universal functions\n",
        "\n",
        "* Basics:-\n",
        "1. 0-dimensional is just a number\n",
        "2. 1-dimensional is array of number eg:- row in database, a vector and timeseries data\n",
        "\n",
        "* We can create a tensor in the following manner:\n",
        "1. First, we import torch. Next, we create a python list with the following elements 7,4,3,2,6.\n",
        "2. We then cast this list to a pytorch tensor using the constructor for tensors.\n",
        "3. We can access the data via an index in the tensor.\n",
        "4. As with a lists, we can access each element with an integer and a square bracket."
      ]
    },
    {
      "cell_type": "code",
      "execution_count": null,
      "id": "c3fa4c0d-318c-43d9-b59d-590780b0d9f9",
      "metadata": {
        "id": "c3fa4c0d-318c-43d9-b59d-590780b0d9f9"
      },
      "outputs": [],
      "source": [
        "import torch\n",
        "import numpy as np\n",
        "import pandas as pd\n",
        "import matplotlib.pyplot as plt"
      ]
    },
    {
      "cell_type": "code",
      "execution_count": null,
      "id": "7ebb6546-8f68-4674-8532-e2679c7c1564",
      "metadata": {
        "id": "7ebb6546-8f68-4674-8532-e2679c7c1564",
        "outputId": "f21ef773-3baf-4da6-e58e-23dcdb2abc99"
      },
      "outputs": [
        {
          "name": "stdout",
          "output_type": "stream",
          "text": [
            "tensor([7, 4, 3, 2, 6])\n",
            "torch.int64\n",
            "torch.LongTensor\n"
          ]
        }
      ],
      "source": [
        "a = torch.tensor([7,4,3,2,6])\n",
        "print(a)\n",
        "print(a.dtype)\n",
        "print(a.type())"
      ]
    },
    {
      "cell_type": "code",
      "execution_count": null,
      "id": "7210bf71-b2b1-4ae5-8ba3-5ca9b46be232",
      "metadata": {
        "id": "7210bf71-b2b1-4ae5-8ba3-5ca9b46be232",
        "outputId": "eb6efdbf-981d-4696-9770-0730f1af14f8"
      },
      "outputs": [
        {
          "name": "stdout",
          "output_type": "stream",
          "text": [
            "tensor([0, 1, 2, 3, 4, 5, 6], dtype=torch.int32)\n",
            "torch.IntTensor\n"
          ]
        }
      ],
      "source": [
        "#We can also specify the datatype of a tensor with the constructor.We can specify the data type using the parameter d type\n",
        "b=torch.tensor([0.0,1.0,2.0,3.0,4.0,5.0,6.0], dtype=torch.int32)\n",
        "print(b)\n",
        "print(b.type())"
      ]
    },
    {
      "cell_type": "code",
      "execution_count": null,
      "id": "d4184a97-d29e-4531-ac09-762497db9b94",
      "metadata": {
        "id": "d4184a97-d29e-4531-ac09-762497db9b94",
        "outputId": "fe1c9624-d9d3-40ce-cafe-bb446263d730"
      },
      "outputs": [
        {
          "name": "stdout",
          "output_type": "stream",
          "text": [
            "tensor([0., 1., 2., 3., 4.])\n",
            "torch.FloatTensor\n"
          ]
        }
      ],
      "source": [
        "#We can also explicitly create a tensor of a specific type,in this example we create a float tensor explicitly using the FloatTensor method\n",
        "c=torch.FloatTensor([0,1,2,3,4])\n",
        "print(c)\n",
        "print(c.type())"
      ]
    },
    {
      "cell_type": "code",
      "execution_count": null,
      "id": "a71c54cd-11d8-4443-8617-eefaaf28b10a",
      "metadata": {
        "id": "a71c54cd-11d8-4443-8617-eefaaf28b10a",
        "outputId": "568e1a4b-6b77-43c5-d2b1-9a6289099230"
      },
      "outputs": [
        {
          "name": "stdout",
          "output_type": "stream",
          "text": [
            "torch.FloatTensor\n"
          ]
        }
      ],
      "source": [
        "#We can convert the type of the tensor to float using the type method, passing in the argument torch.FloatTensor\n",
        "a=a.type(torch.FloatTensor)\n",
        "print(a.type())"
      ]
    },
    {
      "cell_type": "code",
      "execution_count": null,
      "id": "d417422f-b19e-451f-940f-3f7a5c0db7f3",
      "metadata": {
        "id": "d417422f-b19e-451f-940f-3f7a5c0db7f3",
        "outputId": "334eb3df-4b48-4e32-f861-ddccc9947783"
      },
      "outputs": [
        {
          "name": "stdout",
          "output_type": "stream",
          "text": [
            "torch.Size([5])\n",
            "1\n"
          ]
        }
      ],
      "source": [
        "#We can cast the following list to a tensor. The method size gives us the number of elements in the tensor.\n",
        "print(a.size())\n",
        "print(a.ndimension())"
      ]
    },
    {
      "cell_type": "code",
      "execution_count": null,
      "id": "8916f408-6250-4c57-964d-63b986fbe668",
      "metadata": {
        "id": "8916f408-6250-4c57-964d-63b986fbe668",
        "outputId": "ca2f0ca6-e384-4f15-efcf-fd22262fd297"
      },
      "outputs": [
        {
          "name": "stdout",
          "output_type": "stream",
          "text": [
            "tensor([[0.],\n",
            "        [1.],\n",
            "        [2.],\n",
            "        [3.],\n",
            "        [4.],\n",
            "        [5.]])\n",
            "tensor([[0.],\n",
            "        [1.],\n",
            "        [2.],\n",
            "        [3.],\n",
            "        [4.],\n",
            "        [5.]])\n"
          ]
        }
      ],
      "source": [
        "#There are times when you need 2-d tensors, thus you might need to convert your 1-D tensors to 2-D tensors for using them as inputs\n",
        "a=torch.Tensor([0,1,2,3,4,5])\n",
        "#the first argument of the view method represent the number of rows and second the number of columns \n",
        "a_col = a.view(6,1)\n",
        "#If we didn't know that the original tensor had 6 elements in it, we could use a value of -1\n",
        "aa_col = a.view(-1,1)\n",
        "\n",
        "print(a_col)\n",
        "print(aa_col)"
      ]
    },
    {
      "cell_type": "code",
      "execution_count": null,
      "id": "400efa5a-9fe2-4933-bb89-211b2e5b46fd",
      "metadata": {
        "id": "400efa5a-9fe2-4933-bb89-211b2e5b46fd"
      },
      "outputs": [],
      "source": [
        "#We can convert a numpy array to a torch tensor using the function \"from numpy\".\n",
        "numpy_array = np.array([0.0,1.0,2.0,3.0,4.0,5.0])\n",
        "torch_tensor = torch.from_numpy(numpy_array)\n",
        "back_tonumpy = torch_tensor.numpy()"
      ]
    },
    {
      "cell_type": "code",
      "execution_count": null,
      "id": "e485139c-dc89-40e6-ac79-f3f278d6783c",
      "metadata": {
        "id": "e485139c-dc89-40e6-ac79-f3f278d6783c",
        "outputId": "81e691aa-ceeb-4af6-9eb4-2059e0daba95"
      },
      "outputs": [
        {
          "name": "stdout",
          "output_type": "stream",
          "text": [
            "tensor([0., 1., 2., 3., 4., 5.], dtype=torch.float64)\n",
            "[0. 1. 2. 3. 4. 5.]\n"
          ]
        }
      ],
      "source": [
        "print(torch_tensor)\n",
        "print(back_tonumpy)"
      ]
    },
    {
      "cell_type": "code",
      "execution_count": null,
      "id": "115fab3d-6a75-4ca0-a71b-9ecbcdb09026",
      "metadata": {
        "id": "115fab3d-6a75-4ca0-a71b-9ecbcdb09026",
        "outputId": "8e086029-93e3-42b7-f587-2be8d1ce0903"
      },
      "outputs": [
        {
          "name": "stdout",
          "output_type": "stream",
          "text": [
            "0    0.1\n",
            "1    1.0\n",
            "2    2.0\n",
            "3    0.3\n",
            "4    4.0\n",
            "5    6.5\n",
            "6    8.7\n",
            "7    9.8\n",
            "dtype: float64\n",
            "tensor([0.1000, 1.0000, 2.0000, 0.3000, 4.0000, 6.5000, 8.7000, 9.8000],\n",
            "       dtype=torch.float64)\n"
          ]
        }
      ],
      "source": [
        "#Converting pandas series to torch tensor. we can simply use \"values\" to convert series to numpy arrray then it's converted to tensor\n",
        "pandas_series = pd.Series([0.1,1,2,0.3,4,6.5,8.7,9.8])\n",
        "pandas_totorch = torch.from_numpy(pandas_series.values)\n",
        "print(pandas_series)\n",
        "print(pandas_totorch)"
      ]
    },
    {
      "cell_type": "code",
      "execution_count": null,
      "id": "def97f59-ecb1-4420-9f11-36ec9dace66e",
      "metadata": {
        "id": "def97f59-ecb1-4420-9f11-36ec9dace66e",
        "outputId": "2dfa6594-25c6-4d4e-d276-d8fe79662a66"
      },
      "outputs": [
        {
          "name": "stdout",
          "output_type": "stream",
          "text": [
            "[1, 2, 3, 4, 5, 6]\n"
          ]
        }
      ],
      "source": [
        "#we can us to_list method to return list from tensor\n",
        "this_tensor = torch.tensor([1,2,3,4,5,6])\n",
        "torch_tolist = this_tensor.tolist()\n",
        "print(torch_tolist)"
      ]
    },
    {
      "cell_type": "code",
      "execution_count": null,
      "id": "bcc483d6-a63a-4771-8d7a-9c6a7514a441",
      "metadata": {
        "id": "bcc483d6-a63a-4771-8d7a-9c6a7514a441",
        "outputId": "9d95d3a6-8217-45c9-99da-dd9fad22a56f"
      },
      "outputs": [
        {
          "name": "stdout",
          "output_type": "stream",
          "text": [
            "tensor(5)\n",
            "tensor(4)\n"
          ]
        }
      ],
      "source": [
        "new_tensor = torch.tensor([5,3,2,4,7,8])\n",
        "print(new_tensor[0])\n",
        "print(new_tensor[3])"
      ]
    },
    {
      "cell_type": "code",
      "execution_count": null,
      "id": "b249f756-a7eb-4757-8af3-c5bdd1e657c6",
      "metadata": {
        "id": "b249f756-a7eb-4757-8af3-c5bdd1e657c6",
        "outputId": "3b13b26f-27b9-4d0e-fbdb-993fa6caa93d"
      },
      "outputs": [
        {
          "name": "stdout",
          "output_type": "stream",
          "text": [
            "tensor([ 0, 67, 84,  4,  5,  6,  7,  8])\n",
            "tensor([ 0,  1, 84,  4,  5,  6,  7,  8])\n",
            "tensor([0, 1, 2, 4, 5, 6, 7, 8])\n"
          ]
        }
      ],
      "source": [
        "# we can change the value of the created tensors by specifying the index of it\n",
        "d = torch.tensor([99,67,84,4,5,6,7,8])\n",
        "d[0] = 0\n",
        "print(d)\n",
        "d[1] = 1\n",
        "print(d)\n",
        "d[2] = 2\n",
        "print(d)"
      ]
    },
    {
      "cell_type": "code",
      "execution_count": null,
      "id": "41ec1b86-10ab-44a3-9b3f-71542bd5693d",
      "metadata": {
        "id": "41ec1b86-10ab-44a3-9b3f-71542bd5693d",
        "outputId": "a6ff52c5-60b3-43a9-9869-e7cbf6103036"
      },
      "outputs": [
        {
          "name": "stdout",
          "output_type": "stream",
          "text": [
            "tensor([1, 2, 4])\n"
          ]
        }
      ],
      "source": [
        "# we can also assign the elements in the tensor from specififc range to new variable\n",
        "d1 = d[1:4]\n",
        "print(d1)"
      ]
    },
    {
      "cell_type": "code",
      "execution_count": null,
      "id": "0aa773fe-5de8-494e-9f32-6106fc776a2a",
      "metadata": {
        "id": "0aa773fe-5de8-494e-9f32-6106fc776a2a",
        "outputId": "91ff1dbe-a6d9-425c-bf47-16d1851550b8"
      },
      "outputs": [
        {
          "name": "stdout",
          "output_type": "stream",
          "text": [
            "tensor([5., 5., 5., 5.])\n",
            "tensor([4., 6., 6., 4.])\n",
            "tensor([2., 4., 6., 8.])\n"
          ]
        }
      ],
      "source": [
        "#you can also do vector addition in pytorch\n",
        "d2 = torch.tensor([1.0,2.0,3.0,4.0])\n",
        "d3 = torch.tensor([4.0,3.0,2.0,1.0])\n",
        "d4 = d2+d3\n",
        "d5 = d2*d3\n",
        "print(d4)\n",
        "print(d5)\n",
        "#you can directly multiply tensors\n",
        "print(2*d2)"
      ]
    },
    {
      "cell_type": "code",
      "execution_count": null,
      "id": "9d057db9-20d8-420b-94f8-7637716ca292",
      "metadata": {
        "id": "9d057db9-20d8-420b-94f8-7637716ca292",
        "outputId": "e2ff1101-9b4f-4325-cb4e-383cba615e71"
      },
      "outputs": [
        {
          "name": "stdout",
          "output_type": "stream",
          "text": [
            "tensor(130)\n"
          ]
        }
      ],
      "source": [
        "#dot product using tensor\n",
        "u = torch.tensor([1,2,3,4,5])\n",
        "v = torch.tensor([6,7,8,9,10])\n",
        "uv= torch.dot(u,v)\n",
        "print(uv)"
      ]
    },
    {
      "cell_type": "code",
      "execution_count": null,
      "id": "b37f990f-004d-4d95-9454-be05dba286e3",
      "metadata": {
        "id": "b37f990f-004d-4d95-9454-be05dba286e3",
        "outputId": "8de7e3b2-11c4-40e5-96fe-757b4aa55228"
      },
      "outputs": [
        {
          "name": "stdout",
          "output_type": "stream",
          "text": [
            "tensor([2, 3, 4, 5, 6])\n"
          ]
        }
      ],
      "source": [
        "#adding constant to the tensor\n",
        "u1 = u+1\n",
        "#it will add the constant value to each element in the tensor\n",
        "print(u1)"
      ]
    },
    {
      "cell_type": "code",
      "execution_count": null,
      "id": "1f1e2f3c-0d42-493f-8966-52e3700e4ad0",
      "metadata": {
        "id": "1f1e2f3c-0d42-493f-8966-52e3700e4ad0",
        "outputId": "5015206e-ae95-4ebe-a8c8-b7431df84b22"
      },
      "outputs": [
        {
          "name": "stdout",
          "output_type": "stream",
          "text": [
            "tensor(2.5000)\n",
            "tensor(5.)\n",
            "tensor(0.)\n"
          ]
        }
      ],
      "source": [
        "#functions in tensor\n",
        "mean_a = a.mean()\n",
        "print(mean_a)\n",
        "max_a = a.max()\n",
        "print(max_a)\n",
        "min_a = a.min()\n",
        "print(min_a)"
      ]
    },
    {
      "cell_type": "code",
      "execution_count": null,
      "id": "3f6c75d5-2987-4828-9ed4-7ed46c7e8904",
      "metadata": {
        "id": "3f6c75d5-2987-4828-9ed4-7ed46c7e8904",
        "outputId": "750282eb-f090-4605-e202-1bf1e7d767a5"
      },
      "outputs": [
        {
          "name": "stdout",
          "output_type": "stream",
          "text": [
            "tensor([ 0.0000e+00,  1.0000e+00, -8.7423e-08])\n",
            "tensor([ 1.0000e+00, -4.3711e-08, -1.0000e+00])\n"
          ]
        }
      ],
      "source": [
        "#We can create the following torch tensor in Radians\n",
        "x = torch.tensor([0, np.pi/2, np.pi])\n",
        "y = torch.sin(x)\n",
        "print(y)\n",
        "y1 = torch.cos(x)\n",
        "print(y1)"
      ]
    },
    {
      "cell_type": "code",
      "execution_count": null,
      "id": "85c9d47b-4ee8-48ec-a294-340aff6d79e7",
      "metadata": {
        "id": "85c9d47b-4ee8-48ec-a294-340aff6d79e7",
        "outputId": "9cb5a761-ae2f-4c54-f417-f15c982e0389"
      },
      "outputs": [
        {
          "name": "stdout",
          "output_type": "stream",
          "text": [
            "tensor([-2.0000, -1.5000, -1.0000, -0.5000,  0.0000,  0.5000,  1.0000,  1.5000,\n",
            "         2.0000])\n"
          ]
        }
      ],
      "source": [
        "#linspace returns evenly space numbers over a specified interval\n",
        "aa = torch.linspace(-2,2,steps=9)\n",
        "#we get 9 evenly spaced numbers over the interval from -2 to 2\n",
        "print(aa)"
      ]
    },
    {
      "cell_type": "code",
      "execution_count": null,
      "id": "d15fc1f5-d41f-4676-8a5b-593fda45895d",
      "metadata": {
        "id": "d15fc1f5-d41f-4676-8a5b-593fda45895d",
        "outputId": "a0059b76-f9cf-4799-8d52-7dcb6e37e5c5"
      },
      "outputs": [
        {
          "data": {
            "text/plain": [
              "[<matplotlib.lines.Line2D at 0x7f470e7a3250>]"
            ]
          },
          "execution_count": 76,
          "metadata": {},
          "output_type": "execute_result"
        },
        {
          "data": {
            "image/png": "[encoded data removed]",
            "text/plain": [
              "<Figure size 432x288 with 1 Axes>"
            ]
          },
          "metadata": {
            "needs_background": "light"
          },
          "output_type": "display_data"
        }
      ],
      "source": [
        "x1 = torch.linspace(0, 2*np.pi, 100)\n",
        "y1 = torch.sin(x1)\n",
        "plt.plot(x1.numpy(), y1.numpy())"
      ]
    },
    {
      "cell_type": "markdown",
      "id": "d9c9d6dd-6416-4195-965f-a9cf91420e47",
      "metadata": {
        "id": "d9c9d6dd-6416-4195-965f-a9cf91420e47"
      },
      "source": [
        "## 2-D Tensors\n",
        "1. Examples of Two Dimensional tensors \n",
        "2. Tensor Creation in 2D\n",
        "3. Indexing and Slicing of 2D tensors\n",
        "4. Basic operations on 2d tensors"
      ]
    },
    {
      "cell_type": "markdown",
      "id": "79233676-db74-4f30-8114-01e3c698a6ec",
      "metadata": {
        "id": "79233676-db74-4f30-8114-01e3c698a6ec"
      },
      "source": [
        "1. In 2D tensors are essentially matrix. Each row of the tensor corresponds to a different sample and each column of the tensor corresponds to a feature or attribute. \n",
        "2. We can also represent gray scale images as 2d tensors. The image intensity values can be represented as numbers between the range 0 to 255.\n",
        "3. 0 corresponds to the color black and 255 corresponds to the white color\n",
        "4. These numerical values are stored as a grid like a database we can store them in a tensor\n",
        "5. Tensors can be extended to any number of dimensions such as 3 dimensions, 4 dimensions and so on.\n"
      ]
    },
    {
      "cell_type": "markdown",
      "id": "f4b55fbf-f47c-45ad-ba2d-fb2608ef90fe",
      "metadata": {
        "id": "f4b55fbf-f47c-45ad-ba2d-fb2608ef90fe"
      },
      "source": [
        "1. A 3d tensor is essentially a combination of three 1 dimensional tensors\n",
        "2. Consider a color image composed of three color components: blue, green, red.\n",
        "3. Like a gray scale image each color component is made up of different intensity values that can be represent as a tensor.\n",
        "4. This matrix contains the intensity values of the blue channel in the picture.\n",
        "5. Similarly this one has the intensities for the green channel. And this one has intensities for the red channel."
      ]
    },
    {
      "cell_type": "code",
      "execution_count": null,
      "id": "20a266a4-2f8d-4982-98e0-6d9e060ac06a",
      "metadata": {
        "id": "20a266a4-2f8d-4982-98e0-6d9e060ac06a",
        "outputId": "e7e349fe-e7b3-4c4c-d60b-eea3a2109fa3"
      },
      "outputs": [
        {
          "name": "stdout",
          "output_type": "stream",
          "text": [
            "tensor([[11, 12, 13, 14],\n",
            "        [21, 22, 23, 24],\n",
            "        [31, 32, 33, 34]])\n"
          ]
        }
      ],
      "source": [
        "#lets create a list that contains 3 nested lists each of equal size\n",
        "ab = [[11,12,13,14],[21,22,23,24],[31,32,33,34]]\n",
        "ab1 = torch.tensor(ab)\n",
        "print(ab1)"
      ]
    },
    {
      "cell_type": "code",
      "execution_count": null,
      "id": "71639f38-4390-4c27-950e-c35d9ed40ae8",
      "metadata": {
        "id": "71639f38-4390-4c27-950e-c35d9ed40ae8",
        "outputId": "a8140a94-4c14-4feb-958d-e860d06e549a"
      },
      "outputs": [
        {
          "name": "stdout",
          "output_type": "stream",
          "text": [
            "This is dimension value:  2\n",
            "This is the size value:  torch.Size([3, 4])\n",
            "Shape of the tensor is:  torch.Size([3, 4])\n",
            "Number of elements present are:  12\n"
          ]
        }
      ],
      "source": [
        "#we can use ndimension method to obtain the number of dimensions of a torch tensor\n",
        "#the dimension of tensor can also be sometimes refered as it's rank\n",
        "print(\"This is dimension value: \",ab1.ndimension())\n",
        "\n",
        "#the shape attribute of tensor returns the number of rows and columns of the tensor\n",
        "print(\"This is the size value: \",ab1.shape)\n",
        "\n",
        "#we can also use size method to get the shape of tensor\n",
        "print(\"Shape of the tensor is: \",ab1.size())\n",
        "\n",
        "#you can use the numel method to obtain the number of elements present in the tensor\n",
        "print(\"Number of elements present are: \",ab1.numel())"
      ]
    },
    {
      "cell_type": "code",
      "execution_count": null,
      "id": "1847c53a-5562-48e2-8cc9-6df2ff15afd0",
      "metadata": {
        "id": "1847c53a-5562-48e2-8cc9-6df2ff15afd0",
        "outputId": "761946a7-3cda-4fb9-ea34-cc426064a1b3"
      },
      "outputs": [
        {
          "name": "stdout",
          "output_type": "stream",
          "text": [
            "tensor(14)\n",
            "tensor([13, 23, 33])\n"
          ]
        }
      ],
      "source": [
        "#we can use the rectangular brackets to access the different elements of a tensor\n",
        "#the first index corresponds to the rows and second index corresponds to columns\n",
        "print(ab1[0][3])\n",
        "print(ab1[0:3,2])"
      ]
    },
    {
      "cell_type": "code",
      "execution_count": null,
      "id": "c5aec68b-a1da-440d-b3d1-8dc2adc2d970",
      "metadata": {
        "id": "c5aec68b-a1da-440d-b3d1-8dc2adc2d970",
        "outputId": "b1458475-8b07-4878-ea86-fe484e4152cb"
      },
      "outputs": [
        {
          "name": "stdout",
          "output_type": "stream",
          "text": [
            "tensor([[ 2,  4, 16, 18],\n",
            "        [ 6,  8, 10, 12]])\n"
          ]
        }
      ],
      "source": [
        "ab2 = torch.tensor([[1,2,8,9],[3,4,5,6]])\n",
        "ab21 = 2*ab2\n",
        "print(ab21)"
      ]
    },
    {
      "cell_type": "code",
      "execution_count": null,
      "id": "9cca9db5-f6b0-4e9c-9631-3d399585d1dd",
      "metadata": {
        "id": "9cca9db5-f6b0-4e9c-9631-3d399585d1dd",
        "outputId": "38ed8780-3b38-4d91-b77b-e78a3296164b"
      },
      "outputs": [
        {
          "name": "stdout",
          "output_type": "stream",
          "text": [
            "tensor([[ 3,  8],\n",
            "        [12, 26]])\n"
          ]
        }
      ],
      "source": [
        "#matrix multiplication in pytorch can be done by using \"mm\" method\n",
        "#before doing the matrix multiplications we must make sure the number of columns in matrix m1 \n",
        "#must be equal to number of rows in matrix m2\n",
        "m1 = torch.tensor([[0,1,2],[3,4,5]])\n",
        "m2 = torch.tensor([[1,1],[1,2],[1,3]])\n",
        "m3 = torch.mm(m1,m2)\n",
        "print(m3)"
      ]
    },
    {
      "cell_type": "markdown",
      "id": "823a085f-945d-415e-91c3-2d88bbaef341",
      "metadata": {
        "id": "823a085f-945d-415e-91c3-2d88bbaef341"
      },
      "source": [
        "* Differentiation in pytorch"
      ]
    },
    {
      "cell_type": "code",
      "execution_count": null,
      "id": "a7139739-9e97-4616-a10d-78e973b0b68e",
      "metadata": {
        "id": "a7139739-9e97-4616-a10d-78e973b0b68e"
      },
      "outputs": [],
      "source": []
    }
  ],
  "metadata": {
    "environment": {
      "kernel": "python3",
      "name": "common-cpu.m95",
      "type": "gcloud",
      "uri": "gcr.io/deeplearning-platform-release/base-cpu:m95"
    },
    "kernelspec": {
      "display_name": "Python 3",
      "language": "python",
      "name": "python3"
    },
    "language_info": {
      "codemirror_mode": {
        "name": "ipython",
        "version": 3
      },
      "file_extension": ".py",
      "mimetype": "text/x-python",
      "name": "python",
      "nbconvert_exporter": "python",
      "pygments_lexer": "ipython3",
      "version": "3.7.12"
    },
    "colab": {
      "provenance": [],
      "collapsed_sections": [
        "d9c9d6dd-6416-4195-965f-a9cf91420e47"
      ]
    }
  },
  "nbformat": 4,
  "nbformat_minor": 5
}